{
 "cells": [
  {
   "cell_type": "code",
   "execution_count": 12,
   "id": "eb35fb1b-b516-4769-97c8-458adfb95aa5",
   "metadata": {},
   "outputs": [
    {
     "name": "stdout",
     "output_type": "stream",
     "text": [
      "Collecting git+https://github.com/facebookresearch/segment-anything.git\n",
      "  Cloning https://github.com/facebookresearch/segment-anything.git to /private/var/folders/1f/_7z9t82101973t_1gxmf2vwc0000gn/T/pip-req-build-r8b4ltqm\n",
      "  Running command git clone --filter=blob:none --quiet https://github.com/facebookresearch/segment-anything.git /private/var/folders/1f/_7z9t82101973t_1gxmf2vwc0000gn/T/pip-req-build-r8b4ltqm\n",
      "  Resolved https://github.com/facebookresearch/segment-anything.git to commit 6fdee8f2727f4506cfbbe553e23b895e27956588\n",
      "  Preparing metadata (setup.py) ... \u001b[?25ldone\n",
      "\u001b[?25hBuilding wheels for collected packages: segment-anything\n",
      "  Building wheel for segment-anything (setup.py) ... \u001b[?25ldone\n",
      "\u001b[?25h  Created wheel for segment-anything: filename=segment_anything-1.0-py3-none-any.whl size=36622 sha256=602bf17e9193998841b05363246dc6e38053299a5567e999b4e1ec5e9a41ebd7\n",
      "  Stored in directory: /private/var/folders/1f/_7z9t82101973t_1gxmf2vwc0000gn/T/pip-ephem-wheel-cache-5dxf8vqi/wheels/d5/11/03/7aca746a2c0e09f279b10436ced7175926bc38f650b736a648\n",
      "Successfully built segment-anything\n",
      "Installing collected packages: segment-anything\n",
      "  Attempting uninstall: segment-anything\n",
      "    Found existing installation: segment-anything 1.0\n",
      "    Uninstalling segment-anything-1.0:\n",
      "      Successfully uninstalled segment-anything-1.0\n",
      "Successfully installed segment-anything-1.0\n",
      "\n",
      "\u001b[1m[\u001b[0m\u001b[34;49mnotice\u001b[0m\u001b[1;39;49m]\u001b[0m\u001b[39;49m A new release of pip is available: \u001b[0m\u001b[31;49m24.0\u001b[0m\u001b[39;49m -> \u001b[0m\u001b[32;49m24.2\u001b[0m\n",
      "\u001b[1m[\u001b[0m\u001b[34;49mnotice\u001b[0m\u001b[1;39;49m]\u001b[0m\u001b[39;49m To update, run: \u001b[0m\u001b[32;49mpip install --upgrade pip\u001b[0m\n"
     ]
    }
   ],
   "source": [
    "!pip install \\\n",
    "'git+https://github.com/facebookresearch/segment-anything.git'"
   ]
  },
  {
   "cell_type": "code",
   "execution_count": 13,
   "id": "5307d684-e161-4c64-94e9-9e50c6cc1560",
   "metadata": {},
   "outputs": [
    {
     "name": "stdout",
     "output_type": "stream",
     "text": [
      "segment-anything                                  1.0\n",
      "\n",
      "\u001b[1m[\u001b[0m\u001b[34;49mnotice\u001b[0m\u001b[1;39;49m]\u001b[0m\u001b[39;49m A new release of pip is available: \u001b[0m\u001b[31;49m24.0\u001b[0m\u001b[39;49m -> \u001b[0m\u001b[32;49m24.2\u001b[0m\n",
      "\u001b[1m[\u001b[0m\u001b[34;49mnotice\u001b[0m\u001b[1;39;49m]\u001b[0m\u001b[39;49m To update, run: \u001b[0m\u001b[32;49mpip install --upgrade pip\u001b[0m\n"
     ]
    }
   ],
   "source": [
    "!pip list | grep segment-anything"
   ]
  },
  {
   "cell_type": "code",
   "execution_count": 15,
   "id": "342f8689-181b-4d8a-b35a-666a3243c45a",
   "metadata": {},
   "outputs": [
    {
     "ename": "SyntaxError",
     "evalue": "invalid syntax (3785377111.py, line 3)",
     "output_type": "error",
     "traceback": [
      "\u001b[0;36m  Cell \u001b[0;32mIn[15], line 3\u001b[0;36m\u001b[0m\n\u001b[0;31m    from segment-anything import sam_model_registry\u001b[0m\n\u001b[0m                ^\u001b[0m\n\u001b[0;31mSyntaxError\u001b[0m\u001b[0;31m:\u001b[0m invalid syntax\n"
     ]
    }
   ],
   "source": [
    "import sys\n",
    "import torch\n",
    "from segment_anything import sam_model_registry\n",
    "\n",
    "\n",
    "\n",
    "DEVICE = torch.device('cuda:0' if torch.cuda.is_available() else 'cpu')\n",
    "MODEL_TYPE = \"vit_h\"\n",
    "\n",
    "sam = sam_model_registry[MODEL_TYPE](checkpoint='/Users/tylerklimas/Desktop/landslide/sam_vit_h_4b8939.pth')\n",
    "sam.to(device=DEVICE)"
   ]
  },
  {
   "cell_type": "code",
   "execution_count": null,
   "id": "39d4c454-6e9c-45e6-8a2f-73952cd692f5",
   "metadata": {},
   "outputs": [],
   "source": []
  }
 ],
 "metadata": {
  "kernelspec": {
   "display_name": "Python 3.10",
   "language": "python",
   "name": "python310"
  },
  "language_info": {
   "codemirror_mode": {
    "name": "ipython",
    "version": 3
   },
   "file_extension": ".py",
   "mimetype": "text/x-python",
   "name": "python",
   "nbconvert_exporter": "python",
   "pygments_lexer": "ipython3",
   "version": "3.10.5"
  }
 },
 "nbformat": 4,
 "nbformat_minor": 5
}
